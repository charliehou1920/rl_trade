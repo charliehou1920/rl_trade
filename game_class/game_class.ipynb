{
 "cells": [
  {
   "cell_type": "code",
   "execution_count": 7,
   "metadata": {},
   "outputs": [],
   "source": [
    "# Import necessary libraries\n",
    "import pandas as pd\n",
    "import numpy as np\n",
    "import talib\n",
    "# from datetime import datetime, timedelta\n",
    "# import datetime\n",
    "from datetime import datetime as dt\n",
    "from datetime import timedelta\n",
    "import datetime\n",
    "import yfinance as yf\n",
    "\n",
    "# Ignore warnings\n",
    "import warnings\n",
    "warnings.filterwarnings(\"ignore\")"
   ]
  },
  {
   "cell_type": "markdown",
   "metadata": {},
   "source": [
    "## Design Reward"
   ]
  },
  {
   "cell_type": "code",
   "execution_count": null,
   "metadata": {},
   "outputs": [],
   "source": [
    "# We use pnl as our reward\n",
    "\n",
    "def get_pnl(entry, curr_price, position):\n",
    "    # Transaction cost and commissions\n",
    "    tc = 0.001\n",
    "    return (curr_price*(1-tc) - entry*(1+tc))/entry*(1+tc)*position\n",
    "\n",
    "def reward_pure_pnl(entry, curr_price, position):\n",
    "    '''pure pnl'''\n",
    "    return get_pnl(entry, curr_price, position)\n",
    "\n",
    "\n",
    "def reward_positive_pnl(entry, curr_price, position):\n",
    "    '''Positive pnl, zero otherwise'''\n",
    "    pnl = get_pnl(entry, curr_price, position)\n",
    "\n",
    "    if pnl >= 0:\n",
    "        return pnl\n",
    "\n",
    "    else:\n",
    "        return 0\n",
    "    \n",
    "    \n",
    "def reward_pos_log_pnl(entry, curr_price, position):\n",
    "    '''Positive log pnl, zero otherwise'''\n",
    "    pnl = get_pnl(entry, curr_price, position)\n",
    "\n",
    "    if pnl >= 0:\n",
    "        return np.ceil(np.log(pnl*100+1))\n",
    "    else:\n",
    "        return 0\n",
    "\n",
    "\n",
    "def reward_categorical_pnl(entry, curr_price, position):\n",
    "    '''Sign of pnl'''\n",
    "    pnl = get_pnl(entry, curr_price, position)\n",
    "    return np.sign(pnl)\n",
    "\n",
    "\n",
    "def reward_positive_categorical_pnl(entry, curr_price, position):\n",
    "    '''1 for win, 0 for loss'''\n",
    "    pnl = get_pnl(entry, curr_price, position)\n",
    "    if pnl >= 0:\n",
    "        return 1\n",
    "    else:\n",
    "        return 0\n",
    "\n",
    "\n",
    "def reward_exponential_pnl(entry, curr_price, position):\n",
    "    '''Exponentual percentage pnl'''\n",
    "    pnl = get_pnl(entry, curr_price, position)\n",
    "    return np.exp(pnl)"
   ]
  },
  {
   "cell_type": "markdown",
   "metadata": {},
   "source": [
    "## Get Price Data"
   ]
  },
  {
   "cell_type": "code",
   "execution_count": 12,
   "metadata": {},
   "outputs": [
    {
     "name": "stderr",
     "output_type": "stream",
     "text": [
      "[*********************100%%**********************]  1 of 1 completed"
     ]
    },
    {
     "name": "stdout",
     "output_type": "stream",
     "text": [
      "                                 Open        High         Low       Close  \\\n",
      "Datetime                                                                    \n",
      "2024-06-10 09:30:00-04:00  493.529999  495.779999  493.440002  494.529999   \n",
      "2024-06-10 09:35:00-04:00  494.429993  497.000000  494.119995  495.954987   \n",
      "2024-06-10 09:40:00-04:00  495.971497  496.609985  495.299988  495.354309   \n",
      "2024-06-10 09:45:00-04:00  495.410004  496.589996  494.600006  495.299988   \n",
      "2024-06-10 09:50:00-04:00  495.119995  495.869995  494.870087  495.658112   \n",
      "\n",
      "                            Volume  \n",
      "Datetime                            \n",
      "2024-06-10 09:30:00-04:00  1252944  \n",
      "2024-06-10 09:35:00-04:00   234079  \n",
      "2024-06-10 09:40:00-04:00   182812  \n",
      "2024-06-10 09:45:00-04:00   120172  \n",
      "2024-06-10 09:50:00-04:00    90853  \n",
      "                                 Open        High         Low       Close  \\\n",
      "Datetime                                                                    \n",
      "2024-07-08 15:35:00-04:00  527.461914  527.462708  526.989990  527.039978   \n",
      "2024-07-08 15:40:00-04:00  527.039978  528.200012  527.000000  528.039978   \n",
      "2024-07-08 15:45:00-04:00  528.030029  528.390015  527.860107  528.275024   \n",
      "2024-07-08 15:50:00-04:00  528.320007  528.825012  528.070007  528.669983   \n",
      "2024-07-08 15:55:00-04:00  528.669983  529.604980  528.450012  529.390015   \n",
      "\n",
      "                           Volume  \n",
      "Datetime                           \n",
      "2024-07-08 15:35:00-04:00  156752  \n",
      "2024-07-08 15:40:00-04:00  153981  \n",
      "2024-07-08 15:45:00-04:00  130369  \n",
      "2024-07-08 15:50:00-04:00  236100  \n",
      "2024-07-08 15:55:00-04:00  690008  \n"
     ]
    },
    {
     "name": "stderr",
     "output_type": "stream",
     "text": [
      "\n"
     ]
    }
   ],
   "source": [
    "# Define the ticker symbol\n",
    "ticker = 'META'\n",
    "\n",
    "# Define the date range: 30 days before today to today\n",
    "end_date = dt.today()\n",
    "start_date = end_date - timedelta(days=30)\n",
    "\n",
    "# Fetch the data using yfinance with 5-minute intervals\n",
    "meta_data = yf.download(ticker, start=start_date, end=end_date, interval='5m')\n",
    "\n",
    "# Delete the 'Adj Close' column\n",
    "meta_data.drop(columns=['Adj Close'], inplace=True)\n",
    "\n",
    "# Display the data\n",
    "print(meta_data.head())\n",
    "print(meta_data.tail())"
   ]
  },
  {
   "cell_type": "markdown",
   "metadata": {},
   "source": [
    "## Contruct Game Class"
   ]
  },
  {
   "cell_type": "markdown",
   "metadata": {},
   "source": [
    "`get_state`: This function returns the state of the system, including candlesticks, indicators, day of the week, time of the day and position.\n",
    "            \n",
    "`act`: This function interacts with the trading algorithm. It takes action as a parameter suggested by the neural networks and returns a flag whether game is over or not and a reward when game is over."
   ]
  },
  {
   "cell_type": "code",
   "execution_count": 13,
   "metadata": {},
   "outputs": [
    {
     "ename": "SyntaxError",
     "evalue": "incomplete input (2411004447.py, line 1)",
     "output_type": "error",
     "traceback": [
      "\u001b[0;36m  Cell \u001b[0;32mIn[13], line 1\u001b[0;36m\u001b[0m\n\u001b[0;31m    class Game(object):\u001b[0m\n\u001b[0m                       ^\u001b[0m\n\u001b[0;31mSyntaxError\u001b[0m\u001b[0;31m:\u001b[0m incomplete input\n"
     ]
    }
   ],
   "source": [
    "class Game(object):\n",
    "    "
   ]
  },
  {
   "cell_type": "code",
   "execution_count": null,
   "metadata": {},
   "outputs": [],
   "source": []
  }
 ],
 "metadata": {
  "kernelspec": {
   "display_name": ".venv",
   "language": "python",
   "name": "python3"
  },
  "language_info": {
   "codemirror_mode": {
    "name": "ipython",
    "version": 3
   },
   "file_extension": ".py",
   "mimetype": "text/x-python",
   "name": "python",
   "nbconvert_exporter": "python",
   "pygments_lexer": "ipython3",
   "version": "3.10.13"
  }
 },
 "nbformat": 4,
 "nbformat_minor": 2
}
