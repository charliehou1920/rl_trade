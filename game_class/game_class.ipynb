{
 "cells": [
  {
   "cell_type": "code",
   "execution_count": 7,
   "metadata": {},
   "outputs": [],
   "source": [
    "# Import necessary libraries\n",
    "import pandas as pd\n",
    "import numpy as np\n",
    "import talib\n",
    "# from datetime import datetime, timedelta\n",
    "# import datetime\n",
    "from datetime import datetime as dt\n",
    "from datetime import timedelta\n",
    "import datetime\n",
    "import yfinance as yf\n",
    "\n",
    "# Ignore warnings\n",
    "import warnings\n",
    "warnings.filterwarnings(\"ignore\")"
   ]
  },
  {
   "cell_type": "markdown",
   "metadata": {},
   "source": [
    "## Design Reward"
   ]
  },
  {
   "cell_type": "code",
   "execution_count": null,
   "metadata": {},
   "outputs": [],
   "source": [
    "# We use pnl as our reward\n",
    "\n",
    "def get_pnl(entry, curr_price, position):\n",
    "    # Transaction cost and commissions\n",
    "    tc = 0.001\n",
    "    return (curr_price*(1-tc) - entry*(1+tc))/entry*(1+tc)*position\n",
    "\n",
    "def reward_pure_pnl(entry, curr_price, position):\n",
    "    '''pure pnl'''\n",
    "    return get_pnl(entry, curr_price, position)\n",
    "\n",
    "\n",
    "def reward_positive_pnl(entry, curr_price, position):\n",
    "    '''Positive pnl, zero otherwise'''\n",
    "    pnl = get_pnl(entry, curr_price, position)\n",
    "\n",
    "    if pnl >= 0:\n",
    "        return pnl\n",
    "\n",
    "    else:\n",
    "        return 0\n",
    "    \n",
    "    \n",
    "def reward_pos_log_pnl(entry, curr_price, position):\n",
    "    '''Positive log pnl, zero otherwise'''\n",
    "    pnl = get_pnl(entry, curr_price, position)\n",
    "\n",
    "    if pnl >= 0:\n",
    "        return np.ceil(np.log(pnl*100+1))\n",
    "    else:\n",
    "        return 0\n",
    "\n",
    "\n",
    "def reward_categorical_pnl(entry, curr_price, position):\n",
    "    '''Sign of pnl'''\n",
    "    pnl = get_pnl(entry, curr_price, position)\n",
    "    return np.sign(pnl)\n",
    "\n",
    "\n",
    "def reward_positive_categorical_pnl(entry, curr_price, position):\n",
    "    '''1 for win, 0 for loss'''\n",
    "    pnl = get_pnl(entry, curr_price, position)\n",
    "    if pnl >= 0:\n",
    "        return 1\n",
    "    else:\n",
    "        return 0\n",
    "\n",
    "\n",
    "def reward_exponential_pnl(entry, curr_price, position):\n",
    "    '''Exponentual percentage pnl'''\n",
    "    pnl = get_pnl(entry, curr_price, position)\n",
    "    return np.exp(pnl)"
   ]
  },
  {
   "cell_type": "markdown",
   "metadata": {},
   "source": [
    "## Get Price Data"
   ]
  },
  {
   "cell_type": "code",
   "execution_count": 10,
   "metadata": {},
   "outputs": [
    {
     "ename": "AttributeError",
     "evalue": "module 'datetime' has no attribute 'today'",
     "output_type": "error",
     "traceback": [
      "\u001b[0;31m---------------------------------------------------------------------------\u001b[0m",
      "\u001b[0;31mAttributeError\u001b[0m                            Traceback (most recent call last)",
      "Cell \u001b[0;32mIn[10], line 5\u001b[0m\n\u001b[1;32m      2\u001b[0m ticker \u001b[38;5;241m=\u001b[39m \u001b[38;5;124m'\u001b[39m\u001b[38;5;124mMETA\u001b[39m\u001b[38;5;124m'\u001b[39m\n\u001b[1;32m      4\u001b[0m \u001b[38;5;66;03m# Define the date range: 30 days before today to today\u001b[39;00m\n\u001b[0;32m----> 5\u001b[0m end_date \u001b[38;5;241m=\u001b[39m \u001b[43mdatetime\u001b[49m\u001b[38;5;241;43m.\u001b[39;49m\u001b[43mtoday\u001b[49m()\n\u001b[1;32m      6\u001b[0m start_date \u001b[38;5;241m=\u001b[39m end_date \u001b[38;5;241m-\u001b[39m timedelta(days\u001b[38;5;241m=\u001b[39m\u001b[38;5;241m30\u001b[39m)\n\u001b[1;32m      8\u001b[0m \u001b[38;5;66;03m# Fetch the data using yfinance with 5-minute intervals\u001b[39;00m\n",
      "\u001b[0;31mAttributeError\u001b[0m: module 'datetime' has no attribute 'today'"
     ]
    }
   ],
   "source": [
    "# Define the ticker symbol\n",
    "ticker = 'META'\n",
    "\n",
    "# Define the date range: 30 days before today to today\n",
    "end_date = dt.today()\n",
    "start_date = end_date - timedelta(days=30)\n",
    "\n",
    "# Fetch the data using yfinance with 5-minute intervals\n",
    "meta_data = yf.download(ticker, start=start_date, end=end_date, interval='5m')\n",
    "\n",
    "# Display the data\n",
    "print(meta_data.head())\n",
    "print(meta_data.tail())"
   ]
  }
 ],
 "metadata": {
  "kernelspec": {
   "display_name": ".venv",
   "language": "python",
   "name": "python3"
  },
  "language_info": {
   "codemirror_mode": {
    "name": "ipython",
    "version": 3
   },
   "file_extension": ".py",
   "mimetype": "text/x-python",
   "name": "python",
   "nbconvert_exporter": "python",
   "pygments_lexer": "ipython3",
   "version": "3.10.13"
  }
 },
 "nbformat": 4,
 "nbformat_minor": 2
}
